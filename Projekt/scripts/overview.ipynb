{
 "cells": [
  {
   "cell_type": "code",
   "execution_count": 2,
   "metadata": {},
   "outputs": [],
   "source": [
    "import glob\n",
    "import json\n",
    "from pathlib import Path\n",
    "\n",
    "import pandas as pd"
   ]
  },
  {
   "cell_type": "code",
   "execution_count": 12,
   "metadata": {},
   "outputs": [],
   "source": [
    "fn, fs = [], []\n",
    "for file in glob.glob('../source/*.json'):\n",
    "    with open(file) as fd:\n",
    "        fn.append(file)\n",
    "        fs.append(json.load(fd))\n",
    "\n",
    "df = pd.concat([pd.json_normalize(f) for f in fs])"
   ]
  },
  {
   "cell_type": "code",
   "execution_count": 13,
   "metadata": {},
   "outputs": [
    {
     "data": {
      "text/html": [
       "<div>\n",
       "<style scoped>\n",
       "    .dataframe tbody tr th:only-of-type {\n",
       "        vertical-align: middle;\n",
       "    }\n",
       "\n",
       "    .dataframe tbody tr th {\n",
       "        vertical-align: top;\n",
       "    }\n",
       "\n",
       "    .dataframe thead th {\n",
       "        text-align: right;\n",
       "    }\n",
       "</style>\n",
       "<table border=\"1\" class=\"dataframe\">\n",
       "  <thead>\n",
       "    <tr style=\"text-align: right;\">\n",
       "      <th></th>\n",
       "      <th>count</th>\n",
       "      <th>date</th>\n",
       "      <th>status</th>\n",
       "      <th>text</th>\n",
       "    </tr>\n",
       "  </thead>\n",
       "  <tbody>\n",
       "    <tr>\n",
       "      <th>0</th>\n",
       "      <td>1</td>\n",
       "      <td>2021-01-01</td>\n",
       "      <td>True</td>\n",
       "      <td>dog hits dutifully adorable</td>\n",
       "    </tr>\n",
       "    <tr>\n",
       "      <th>0</th>\n",
       "      <td>2</td>\n",
       "      <td>2021-01-01</td>\n",
       "      <td>True</td>\n",
       "      <td>rabbit hits occasionally adorable</td>\n",
       "    </tr>\n",
       "    <tr>\n",
       "      <th>0</th>\n",
       "      <td>3</td>\n",
       "      <td>2021-01-01</td>\n",
       "      <td>True</td>\n",
       "      <td>cat runs dutifully clueless</td>\n",
       "    </tr>\n",
       "    <tr>\n",
       "      <th>0</th>\n",
       "      <td>4</td>\n",
       "      <td>2021-01-01</td>\n",
       "      <td>True</td>\n",
       "      <td>monkey jumps dutifully odd</td>\n",
       "    </tr>\n",
       "    <tr>\n",
       "      <th>0</th>\n",
       "      <td>1</td>\n",
       "      <td>2021-01-02</td>\n",
       "      <td>True</td>\n",
       "      <td>monkey runs dutifully odd</td>\n",
       "    </tr>\n",
       "  </tbody>\n",
       "</table>\n",
       "</div>"
      ],
      "text/plain": [
       "   count        date  status                               text\n",
       "0      1  2021-01-01    True        dog hits dutifully adorable\n",
       "0      2  2021-01-01    True  rabbit hits occasionally adorable\n",
       "0      3  2021-01-01    True        cat runs dutifully clueless\n",
       "0      4  2021-01-01    True         monkey jumps dutifully odd\n",
       "0      1  2021-01-02    True          monkey runs dutifully odd"
      ]
     },
     "execution_count": 13,
     "metadata": {},
     "output_type": "execute_result"
    }
   ],
   "source": [
    "df.head()"
   ]
  },
  {
   "cell_type": "code",
   "execution_count": 14,
   "metadata": {},
   "outputs": [
    {
     "data": {
      "text/html": [
       "<div>\n",
       "<style scoped>\n",
       "    .dataframe tbody tr th:only-of-type {\n",
       "        vertical-align: middle;\n",
       "    }\n",
       "\n",
       "    .dataframe tbody tr th {\n",
       "        vertical-align: top;\n",
       "    }\n",
       "\n",
       "    .dataframe thead th {\n",
       "        text-align: right;\n",
       "    }\n",
       "</style>\n",
       "<table border=\"1\" class=\"dataframe\">\n",
       "  <thead>\n",
       "    <tr style=\"text-align: right;\">\n",
       "      <th></th>\n",
       "      <th>count</th>\n",
       "      <th>date</th>\n",
       "      <th>status</th>\n",
       "      <th>text</th>\n",
       "    </tr>\n",
       "  </thead>\n",
       "  <tbody>\n",
       "    <tr>\n",
       "      <th>0</th>\n",
       "      <td>2</td>\n",
       "      <td>2023-05-29</td>\n",
       "      <td>True</td>\n",
       "      <td>cat jumps foolishly clueless</td>\n",
       "    </tr>\n",
       "    <tr>\n",
       "      <th>0</th>\n",
       "      <td>3</td>\n",
       "      <td>2023-05-29</td>\n",
       "      <td>True</td>\n",
       "      <td>monkey runs foolishly clueless</td>\n",
       "    </tr>\n",
       "    <tr>\n",
       "      <th>0</th>\n",
       "      <td>1</td>\n",
       "      <td>2023-05-30</td>\n",
       "      <td>True</td>\n",
       "      <td>dog jumps merrily adorable</td>\n",
       "    </tr>\n",
       "    <tr>\n",
       "      <th>0</th>\n",
       "      <td>2</td>\n",
       "      <td>2023-05-30</td>\n",
       "      <td>True</td>\n",
       "      <td>rabbit runs crazily adorable</td>\n",
       "    </tr>\n",
       "    <tr>\n",
       "      <th>0</th>\n",
       "      <td>3</td>\n",
       "      <td>2023-05-30</td>\n",
       "      <td>True</td>\n",
       "      <td>puppy hits occasionally adorable</td>\n",
       "    </tr>\n",
       "  </tbody>\n",
       "</table>\n",
       "</div>"
      ],
      "text/plain": [
       "   count        date  status                              text\n",
       "0      2  2023-05-29    True      cat jumps foolishly clueless\n",
       "0      3  2023-05-29    True    monkey runs foolishly clueless\n",
       "0      1  2023-05-30    True        dog jumps merrily adorable\n",
       "0      2  2023-05-30    True      rabbit runs crazily adorable\n",
       "0      3  2023-05-30    True  puppy hits occasionally adorable"
      ]
     },
     "execution_count": 14,
     "metadata": {},
     "output_type": "execute_result"
    }
   ],
   "source": [
    "df.tail()"
   ]
  },
  {
   "cell_type": "code",
   "execution_count": 15,
   "metadata": {},
   "outputs": [
    {
     "data": {
      "text/plain": [
       "2069"
      ]
     },
     "execution_count": 15,
     "metadata": {},
     "output_type": "execute_result"
    }
   ],
   "source": [
    "len(df)"
   ]
  },
  {
   "cell_type": "code",
   "execution_count": 16,
   "metadata": {},
   "outputs": [
    {
     "data": {
      "text/plain": [
       "194"
      ]
     },
     "execution_count": 16,
     "metadata": {},
     "output_type": "execute_result"
    }
   ],
   "source": [
    "len(df[df.status == False])"
   ]
  },
  {
   "cell_type": "code",
   "execution_count": 17,
   "metadata": {},
   "outputs": [
    {
     "data": {
      "text/plain": [
       "count                          2\n",
       "date                  2021-01-03\n",
       "status                     False\n",
       "text      dog runs dutifully odd\n",
       "Name: 0, dtype: object"
      ]
     },
     "execution_count": 17,
     "metadata": {},
     "output_type": "execute_result"
    }
   ],
   "source": [
    "df_fail = df[df.status == False]"
   ]
  },
  {
   "cell_type": "code",
   "execution_count": 20,
   "metadata": {},
   "outputs": [
    {
     "name": "stdout",
     "output_type": "stream",
     "text": [
      "../source\\2021-01-01_1.json {'count': 1, 'date': '2021-01-01', 'status': True, 'text': 'dog hits dutifully adorable'}\n",
      "../source\\2021-01-01_2.json {'count': 2, 'date': '2021-01-01', 'status': True, 'text': 'rabbit hits occasionally adorable'}\n",
      "../source\\2021-01-01_3.json {'count': 3, 'date': '2021-01-01', 'status': True, 'text': 'cat runs dutifully clueless'}\n",
      "../source\\2021-01-01_4.json {'count': 4, 'date': '2021-01-01', 'status': True, 'text': 'monkey jumps dutifully odd'}\n",
      "../source\\2021-01-02_1.json {'count': 1, 'date': '2021-01-02', 'status': True, 'text': 'monkey runs dutifully odd'}\n",
      "../source\\2021-01-02_3.json {'count': 3, 'date': '2021-01-02', 'status': True, 'text': 'cat hits crazily odd'}\n",
      "../source\\2021-01-02_4.json {'count': 4, 'date': '2021-01-02', 'status': True, 'text': 'puppy runs foolishly clueless'}\n",
      "../source\\2021-01-02_5.json {'count': 5, 'date': '2021-01-02', 'status': True, 'text': 'dog jumps occasionally adorable'}\n",
      "../source\\2021-01-03_1.json {'count': 1, 'date': '2021-01-03', 'status': True, 'text': 'rabbit jumps dutifully adorable'}\n",
      "../source\\2021-01-03_2.json {'count': 2, 'date': '2021-01-03', 'status': False, 'text': 'dog runs dutifully odd'}\n"
     ]
    }
   ],
   "source": [
    "for i in range(10):\n",
    "    print(fn[i], fs[i])"
   ]
  },
  {
   "cell_type": "code",
   "execution_count": null,
   "metadata": {},
   "outputs": [],
   "source": []
  }
 ],
 "metadata": {
  "kernelspec": {
   "display_name": ".venv",
   "language": "python",
   "name": "python3"
  },
  "language_info": {
   "codemirror_mode": {
    "name": "ipython",
    "version": 3
   },
   "file_extension": ".py",
   "mimetype": "text/x-python",
   "name": "python",
   "nbconvert_exporter": "python",
   "pygments_lexer": "ipython3",
   "version": "3.10.0"
  },
  "orig_nbformat": 4,
  "vscode": {
   "interpreter": {
    "hash": "067e2414e82f685ff7454be19067b52ba219797558083434bd9a45e94dfeec77"
   }
  }
 },
 "nbformat": 4,
 "nbformat_minor": 2
}
